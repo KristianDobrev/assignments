{
 "cells": [
  {
   "cell_type": "markdown",
   "metadata": {},
   "source": [
    "Before you turn this problem in, make sure everything runs as expected. First, **restart the kernel** (in the menubar, select Kernel$\\rightarrow$Restart) and then **run all cells** (in the menubar, select Cell$\\rightarrow$Run All).\n",
    "\n",
    "Make sure you fill in any place that says `YOUR CODE HERE` or \"YOUR ANSWER HERE\", as well as your name and collaborators below:"
   ]
  },
  {
   "cell_type": "code",
   "execution_count": 1,
   "metadata": {},
   "outputs": [],
   "source": [
    "NAME = \"Kristian Hristov Dobrev\"\n",
    "COLLABORATORS = \"\""
   ]
  },
  {
   "cell_type": "markdown",
   "metadata": {},
   "source": [
    "---"
   ]
  },
  {
   "cell_type": "markdown",
   "metadata": {},
   "source": [
    "# Python assignment\n",
    "\n",
    "The python assignment you can do either on your own or with one other student (i.e. max group size is 2 students).\n",
    "\n",
    "The first cell of your notebook, should contain a table with the names and SNRs and ANRs of the group members, like so\n",
    "\n",
    "|Name|SNR|ANR|\n",
    "|----|---|----|\n",
    "|Kristian Dobrev|2026708|821874|\n",
    "\n",
    "\n",
    "\n",
    "See [the webpage](https://janboone.github.io/applied-economics/#org065a005) for details of what we expect to see in this assignment.\n",
    "\n"
   ]
  },
  {
   "cell_type": "markdown",
   "metadata": {},
   "source": [
    "# Research question (0.5 points)\n",
    "\n",
    "Formulate the research question: what question do you want to answer in this assignment?"
   ]
  },
  {
   "cell_type": "markdown",
   "metadata": {
    "deletable": false,
    "nbgrader": {
     "checksum": "b350c3082e112a5b2f1f6db0481fa5bd",
     "grade": true,
     "grade_id": "cell-7a61a5e9e6991ff4",
     "locked": false,
     "points": 0.5,
     "schema_version": 1,
     "solution": true
    }
   },
   "source": [
    "How has the European integration affected the newly admitted countries (in 2004, 2007 and 2013) in the European Union?"
   ]
  },
  {
   "cell_type": "markdown",
   "metadata": {},
   "source": [
    "# Motivation (0.5 points)\n",
    "\n",
    "Motivate why this question is interesting."
   ]
  },
  {
   "cell_type": "markdown",
   "metadata": {
    "deletable": false,
    "nbgrader": {
     "checksum": "ab93f4d26eb3e0bcf88927ee71df6b63",
     "grade": true,
     "grade_id": "cell-3d71712c92143820",
     "locked": false,
     "points": 0.5,
     "schema_version": 1,
     "solution": true
    }
   },
   "source": [
    "The growing movements of Euroscepticism in the EU countries, and especially in the countries that I have studied, are making this issue extremely relevant. Its answer could provide a basis for the affirmation of pro-European politicians or it could strengthen the desire of Eurosceptics for their countries to leave the EU."
   ]
  },
  {
   "cell_type": "markdown",
   "metadata": {},
   "source": [
    "# Method (0.5 points)\n",
    "\n",
    "If you do a theory notebook (without external data; but perhaps with data that you simulate yourself), explain the methods that you use for the theory:\n",
    "\n",
    "* is there an optimization problem underlying the notebook (like a firm maximizing profits)?\n",
    "* do you calculate an equilibrium?\n",
    "* what model do you use?"
   ]
  },
  {
   "cell_type": "markdown",
   "metadata": {},
   "source": [
    "# [optional] Data [0.5 points]\n",
    "\n",
    "**These 0.5 points are instead of the Method points above**\n",
    "\n",
    "If you use data for your assignment, the Method part above does not apply. Instead,\n",
    "\n",
    "* explain where your data come from (give a link or the code to download the data if you use an API like [wbdata](https://wbdata.readthedocs.io/en/stable/));\n",
    "* explain the data cleaning and data normalization steps that you use;\n",
    "* make sure that the data is in your github repository as well (or explain why this is not possible) so that we can replicate your analysis;\n",
    "* what statistical methods do you use with the data.\n"
   ]
  },
  {
   "cell_type": "markdown",
   "metadata": {
    "deletable": false,
    "nbgrader": {
     "checksum": "84c7d0d85d8fb5e0073f3053f9bedf5a",
     "grade": true,
     "grade_id": "cell-8cbf4938fbebbb6e",
     "locked": false,
     "points": 0.5,
     "schema_version": 1,
     "solution": true
    }
   },
   "source": [
    "My data comes form the [Eurostat](https://pypi.org/project/eurostat/) API.\n",
    "I will use descriptive analysis in order to answer the aforementioned question. For better visibility and clearance of the plots I have divided the countries of my analysis into five groups:\n",
    "1. ***Poland, the Czech Republic and Hungary*** - group of the Visegrad Four countries. The only country missing here is Slovakia, the reason for which is given below.\n",
    "2. ***Slovakia and Slovenia*** - placing these two countries into one group would make the analysis more interesting with comparisons between them based on different indicators, as both countries were part of larger countries in the early 1990s of the last century. Slovakia became an independent state after the break-up of Czechoslovakia on 1 January 1993, and Slovenia gained independence from Yugoslavia on 25 June 1991.\n",
    "3. ***Lithuania, Latvia and Estonia*** - group of the Baltic countries.\n",
    "4. ***Cyprus and Malta*** - group of the southern countries that joined the EU in 2004.\n",
    "5. ***Romania, Bulgaria and Croatia*** - group of the countries that joined the EU last."
   ]
  },
  {
   "cell_type": "markdown",
   "metadata": {},
   "source": [
    "# Preview of the answers (0.5 points)\n",
    "\n",
    "Summarize the results that you find and the answer to your research question."
   ]
  },
  {
   "cell_type": "markdown",
   "metadata": {
    "deletable": false,
    "nbgrader": {
     "checksum": "938eb25dc709a2252d7013dc1cd8176a",
     "grade": true,
     "grade_id": "cell-1b3df4385bba508d",
     "locked": false,
     "points": 0.5,
     "schema_version": 1,
     "solution": true
    }
   },
   "source": [
    "YOUR ANSWER HERE"
   ]
  },
  {
   "cell_type": "markdown",
   "metadata": {},
   "source": [
    "# Main assumptions (0.5 points)\n",
    "\n",
    "What are the main assumptions that you need to answer the question? If you do a theory notebook, what are the main assumptions of your model? If you use data, what assumptions are needed by your estimation method."
   ]
  },
  {
   "cell_type": "markdown",
   "metadata": {
    "deletable": false,
    "nbgrader": {
     "checksum": "2e95c3f2ef005a63968a0ade420f5af7",
     "grade": true,
     "grade_id": "cell-d84f19967b2baa1d",
     "locked": false,
     "points": 0.5,
     "schema_version": 1,
     "solution": true
    }
   },
   "source": [
    "YOUR ANSWER HERE"
   ]
  },
  {
   "cell_type": "code",
   "execution_count": null,
   "metadata": {},
   "outputs": [],
   "source": []
  },
  {
   "cell_type": "markdown",
   "metadata": {},
   "source": [
    "# Python code (6.5 points)\n",
    "\n",
    "\n",
    "Give the python code in code cells and use markdown cells to explain why you code things in this way and what the outcomes are of the code cells.\n",
    "\n",
    "Note that the explanation of your code is at least as important as the python code itself.\n",
    "\n",
    "Create as many python and markdown cells as you need to explain things well.\n"
   ]
  },
  {
   "cell_type": "code",
   "execution_count": 2,
   "metadata": {},
   "outputs": [
    {
     "name": "stdout",
     "output_type": "stream",
     "text": [
      "Requirement already satisfied: eurostat in /opt/conda/lib/python3.7/site-packages (0.2.1)\n",
      "Requirement already satisfied: pandas in /opt/conda/lib/python3.7/site-packages (from eurostat) (0.25.2)\n",
      "Requirement already satisfied: pandasdmx<=0.9 in /opt/conda/lib/python3.7/site-packages (from eurostat) (0.9)\n",
      "Requirement already satisfied: requests in /opt/conda/lib/python3.7/site-packages (from eurostat) (2.22.0)\n",
      "Requirement already satisfied: numpy>=1.13.3 in /opt/conda/lib/python3.7/site-packages (from pandas->eurostat) (1.17.3)\n",
      "Requirement already satisfied: python-dateutil>=2.6.1 in /opt/conda/lib/python3.7/site-packages (from pandas->eurostat) (2.8.0)\n",
      "Requirement already satisfied: pytz>=2017.2 in /opt/conda/lib/python3.7/site-packages (from pandas->eurostat) (2019.3)\n",
      "Requirement already satisfied: jsonpath-rw in /opt/conda/lib/python3.7/site-packages (from pandasdmx<=0.9->eurostat) (1.4.0)\n",
      "Requirement already satisfied: lxml in /opt/conda/lib/python3.7/site-packages (from pandasdmx<=0.9->eurostat) (4.6.2)\n",
      "Requirement already satisfied: setuptools in /opt/conda/lib/python3.7/site-packages (from pandasdmx<=0.9->eurostat) (41.6.0.post20191029)\n",
      "Requirement already satisfied: chardet<3.1.0,>=3.0.2 in /opt/conda/lib/python3.7/site-packages (from requests->eurostat) (3.0.4)\n",
      "Requirement already satisfied: urllib3!=1.25.0,!=1.25.1,<1.26,>=1.21.1 in /opt/conda/lib/python3.7/site-packages (from requests->eurostat) (1.25.6)\n",
      "Requirement already satisfied: idna<2.9,>=2.5 in /opt/conda/lib/python3.7/site-packages (from requests->eurostat) (2.8)\n",
      "Requirement already satisfied: certifi>=2017.4.17 in /opt/conda/lib/python3.7/site-packages (from requests->eurostat) (2019.9.11)\n",
      "Requirement already satisfied: six>=1.5 in /opt/conda/lib/python3.7/site-packages (from python-dateutil>=2.6.1->pandas->eurostat) (1.12.0)\n",
      "Requirement already satisfied: decorator in /opt/conda/lib/python3.7/site-packages (from jsonpath-rw->pandasdmx<=0.9->eurostat) (4.4.1)\n",
      "Requirement already satisfied: ply in /opt/conda/lib/python3.7/site-packages (from jsonpath-rw->pandasdmx<=0.9->eurostat) (3.11)\n",
      "Note: you may need to restart the kernel to use updated packages.\n"
     ]
    }
   ],
   "source": [
    "pip install eurostat"
   ]
  },
  {
   "cell_type": "code",
   "execution_count": 47,
   "metadata": {},
   "outputs": [],
   "source": [
    "import pandas as pd\n",
    "import numpy as np\n",
    "import matplotlib.pyplot as plt\n",
    "import wbdata as wb\n",
    "import datetime as dt\n",
    "import eurostat as eu\n",
    "\n",
    "group_1 = ['POL', 'CZE', 'HUN']\n",
    "group_2 = ['SVK', 'SVN']\n",
    "group_3 = ['LTU', 'LVA', 'EST']\n",
    "group_4 = ['CYP', 'MLT']\n",
    "group_5 = ['ROU', 'BGR', 'HRV']\n",
    "eu_15 = ['BEL', 'DNK', 'FRA', 'DEU', 'GRC', 'IRL', 'ITA', 'LUX', 'NLD', 'PRT', 'ESP', 'GBR', 'AUT', 'FIN', 'SWE']\n",
    "#toc_df = eu.get_toc_df()"
   ]
  },
  {
   "cell_type": "code",
   "execution_count": 59,
   "metadata": {},
   "outputs": [],
   "source": [
    "#Getting a list of the countries\n",
    "wb.get_country()"
   ]
  },
  {
   "cell_type": "markdown",
   "metadata": {},
   "source": [
    "## *GDP per capita*"
   ]
  },
  {
   "cell_type": "code",
   "execution_count": 58,
   "metadata": {},
   "outputs": [
    {
     "name": "stdout",
     "output_type": "stream",
     "text": [
      "6.0.GDPpc_constant        \tGDP per capita, PPP (constant 2011 international $) \n",
      "FB.DPT.INSU.PC.ZS         \tDeposit insurance coverage (% of GDP per capita)\n",
      "NV.AGR.PCAP.KD.ZG         \tReal agricultural GDP per capita growth rate (%)\n",
      "NY.GDP.PCAP.CD            \tGDP per capita (current US$)\n",
      "NY.GDP.PCAP.CN            \tGDP per capita (current LCU)\n",
      "NY.GDP.PCAP.KD            \tGDP per capita (constant 2010 US$)\n",
      "NY.GDP.PCAP.KD.ZG         \tGDP per capita growth (annual %)\n",
      "NY.GDP.PCAP.KN            \tGDP per capita (constant LCU)\n",
      "NY.GDP.PCAP.PP.CD         \tGDP per capita, PPP (current international $)\n",
      "NY.GDP.PCAP.PP.KD         \tGDP per capita, PPP (constant 2017 international $)\n",
      "NY.GDP.PCAP.PP.KD.87      \tGDP per capita, PPP (constant 1987 international $)\n",
      "NY.GDP.PCAP.PP.KD.ZG      \tGDP per capita, PPP annual growth (%)\n",
      "SE.XPD.PRIM.PC.ZS         \tGovernment expenditure per student, primary (% of GDP per capita)\n",
      "SE.XPD.SECO.PC.ZS         \tGovernment expenditure per student, secondary (% of GDP per capita)\n",
      "SE.XPD.TERT.PC.ZS         \tGovernment expenditure per student, tertiary (% of GDP per capita)\n",
      "UIS.XUNIT.GDPCAP.02.FSGOV \tInitial government funding per pre-primary student as a percentage of GDP per capita\n",
      "UIS.XUNIT.GDPCAP.1.FSGOV  \tInitial government funding per primary student as a percentage of GDP per capita\n",
      "UIS.XUNIT.GDPCAP.1.FSHH   \tInitial household funding per primary student as a percentage of GDP per capita\n",
      "UIS.XUNIT.GDPCAP.2.FSGOV  \tInitial government funding per lower secondary student as a percentage of GDP per capita\n",
      "UIS.XUNIT.GDPCAP.23.FSGOV \tInitial government funding per secondary student as a percentage of GDP per capita\n",
      "UIS.XUNIT.GDPCAP.23.FSHH  \tInitial household funding per secondary student as a percentage of GDP per capita\n",
      "UIS.XUNIT.GDPCAP.3.FSGOV  \tInitial government funding per upper secondary student as a percentage of GDP per capita\n",
      "UIS.XUNIT.GDPCAP.5T8.FSGOV\tInitial government funding per tertiary student as a percentage of GDP per capita\n",
      "UIS.XUNIT.GDPCAP.5T8.FSHH \tInitial household funding per tertiary student as a percentage of GDP per capita\n"
     ]
    }
   ],
   "source": [
    "#Searching for an indicator\n",
    "wb.search_indicators('gdp per capita')"
   ]
  },
  {
   "cell_type": "markdown",
   "metadata": {},
   "source": [
    "## *GDP growth*"
   ]
  },
  {
   "cell_type": "code",
   "execution_count": 60,
   "metadata": {},
   "outputs": [
    {
     "name": "stdout",
     "output_type": "stream",
     "text": [
      "5.51.01.10.gdp      \tPer capita GDP growth\n",
      "6.0.GDP_growth      \tGDP growth (annual %)\n",
      "NV.AGR.TOTL.ZG      \tReal agricultural GDP growth rates (%)\n",
      "NY.GDP.MKTP.KD.ZG   \tGDP growth (annual %)\n",
      "NY.GDP.MKTP.KN.87.ZG\tGDP growth (annual %)\n"
     ]
    }
   ],
   "source": [
    "#Searching for an indicator\n",
    "wb.search_indicators('gdp growth')"
   ]
  },
  {
   "cell_type": "markdown",
   "metadata": {},
   "source": [
    "## *Inflation rate*"
   ]
  },
  {
   "cell_type": "code",
   "execution_count": 61,
   "metadata": {},
   "outputs": [
    {
     "name": "stdout",
     "output_type": "stream",
     "text": [
      "FP.CPI.TOTL.ZG      \tInflation, consumer prices (annual %)\n",
      "FP.FPI.TOTL.ZG      \tInflation, food prices (annual %)\n",
      "FP.WPI.TOTL.ZG      \tInflation, wholesale prices (annual %)\n",
      "NY.GDP.DEFL.87.ZG   \tInflation, GDP deflator (annual %)\n",
      "NY.GDP.DEFL.KD.ZG   \tInflation, GDP deflator (annual %)\n",
      "NY.GDP.DEFL.KD.ZG.AD\tInflation, GDP deflator: linked series (annual %)\n"
     ]
    }
   ],
   "source": [
    "#Searching for an indicator\n",
    "wb.search_indicators('inflation')"
   ]
  },
  {
   "cell_type": "markdown",
   "metadata": {},
   "source": [
    "## *Unemployment rate*"
   ]
  },
  {
   "cell_type": "code",
   "execution_count": 72,
   "metadata": {},
   "outputs": [
    {
     "name": "stdout",
     "output_type": "stream",
     "text": [
      "lm_ub.bi_q1             \tBenefit incidence of unemployment benefits and ALMP to poorest quintile (% of total U/ALMP benefits)\n",
      "lm_ub.cov_pop           \tCoverage of unemployment benefits and ALMP (% of population)\n",
      "lm_ub.gen_pop           \tGenerosity of unemployment benefits and ALMP (% of total welfare of beneficiary households)\n",
      "per_lm_alllm.adq_pop_tot\tAdequacy of unemployment benefits and ALMP (% of total welfare of beneficiary households)\n",
      "per_lm_alllm.ben_q1_tot \tBenefit incidence of unemployment benefits and ALMP to poorest quintile (% of total U/ALMP benefits)\n",
      "per_lm_alllm.cov_pop_tot\tCoverage of unemployment benefits and ALMP (% of population)\n",
      "per_lm_alllm.cov_q1_tot \tCoverage of unemployment benefits and ALMP in poorest quintile (% of population)\n",
      "per_lm_alllm.cov_q2_tot \tCoverage of unemployment benefits and ALMP in 2nd quintile (% of population)\n",
      "per_lm_alllm.cov_q3_tot \tCoverage of unemployment benefits and ALMP in 3rd quintile (% of population)\n",
      "per_lm_alllm.cov_q4_tot \tCoverage of unemployment benefits and ALMP in 4th quintile (% of population)\n",
      "per_lm_alllm.cov_q5_tot \tCoverage of unemployment benefits and ALMP in richest quintile (% of population)\n",
      "SL.UEM.1524.FE.NE.ZS    \tUnemployment, youth female (% of female labor force ages 15-24) (national estimate)\n",
      "SL.UEM.1524.FE.ZS       \tUnemployment, youth female (% of female labor force ages 15-24) (modeled ILO estimate)\n",
      "SL.UEM.1524.FM.NE.ZS    \tRatio of female to male youth unemployment rate (%) (national estimate)\n",
      "SL.UEM.1524.FM.ZS       \tRatio of female to male youth unemployment rate (% ages 15-24) (modeled ILO estimate)\n",
      "SL.UEM.1524.MA.NE.ZS    \tUnemployment, youth male (% of male labor force ages 15-24) (national estimate)\n",
      "SL.UEM.1524.MA.ZS       \tUnemployment, youth male (% of male labor force ages 15-24) (modeled ILO estimate)\n",
      "SL.UEM.1524.NE.ZS       \tUnemployment, youth total (% of total labor force ages 15-24) (national estimate)\n",
      "SL.UEM.1524.ZS          \tUnemployment, youth total (% of total labor force ages 15-24) (modeled ILO estimate)\n",
      "SL.UEM.ADVN.FE.ZS       \tUnemployment with advanced education, female (% of female labor force with advanced education)\n",
      "SL.UEM.ADVN.MA.ZS       \tUnemployment with advanced education, male (% of male labor force with advanced education)\n",
      "SL.UEM.ADVN.ZS          \tUnemployment with advanced education (% of total labor force with advanced education)\n",
      "SL.UEM.BASC.FE.ZS       \tUnemployment with basic education, female (% of female labor force with basic education)\n",
      "SL.UEM.BASC.MA.ZS       \tUnemployment with basic education, male (% of male labor force with basic education)\n",
      "SL.UEM.BASC.ZS          \tUnemployment with basic education (% of total labor force with basic education)\n",
      "SL.UEM.INTM.FE.ZS       \tUnemployment with intermediate education, female (% of female labor force with intermediate education)\n",
      "SL.UEM.INTM.MA.ZS       \tUnemployment with intermediate education, male (% of male labor force with intermediate education)\n",
      "SL.UEM.INTM.ZS          \tUnemployment with intermediate education (% of total labor force with intermediate education)\n",
      "SL.UEM.LTRM.FE.ZS       \tLong-term unemployment, female (% of female unemployment)\n",
      "SL.UEM.LTRM.MA.ZS       \tLong-term unemployment, male (% of male unemployment)\n",
      "SL.UEM.LTRM.ZS          \tLong-term unemployment (% of total unemployment)\n",
      "SL.UEM.PRIM.FE.ZS       \tUnemployment with primary education, female (% of female unemployment)\n",
      "SL.UEM.PRIM.MA.ZS       \tUnemployment with primary education, male (% of male unemployment)\n",
      "SL.UEM.PRIM.ZS          \tUnemployment with primary education (% of total unemployment)\n",
      "SL.UEM.SECO.FE.ZS       \tUnemployment with secondary education, female (% of female unemployment)\n",
      "SL.UEM.SECO.MA.ZS       \tUnemployment with secondary education, male (% of male unemployment)\n",
      "SL.UEM.SECO.ZS          \tUnemployment with secondary education (% of total unemployment)\n",
      "SL.UEM.TERT.FE.ZS       \tUnemployment with tertiary education, female (% of female unemployment)\n",
      "SL.UEM.TERT.MA.ZS       \tUnemployment with tertiary education, male (% of male unemployment)\n",
      "SL.UEM.TERT.ZS          \tUnemployment with tertiary education (% of total unemployment)\n",
      "SL.UEM.TOTL.FE.NE.ZS    \tUnemployment, female (% of female labor force) (national estimate)\n",
      "SL.UEM.TOTL.FE.ZS       \tUnemployment, female (% of female labor force) (modeled ILO estimate)\n",
      "SL.UEM.TOTL.MA.NE.ZS    \tUnemployment, male (% of male labor force) (national estimate)\n",
      "SL.UEM.TOTL.MA.ZS       \tUnemployment, male (% of male labor force) (modeled ILO estimate)\n",
      "SL.UEM.TOTL.NE.ZS       \tUnemployment, total (% of total labor force) (national estimate)\n",
      "SL.UEM.TOTL.ZS          \tUnemployment, total (% of total labor force) (modeled ILO estimate)\n",
      "UNEMPSA_                \tUnemployment rate,Percent,,,\n"
     ]
    }
   ],
   "source": [
    "#Searching for an indicator\n",
    "wb.search_indicators('unemployment')"
   ]
  },
  {
   "cell_type": "markdown",
   "metadata": {},
   "source": [
    "## *Labor productivity*"
   ]
  },
  {
   "cell_type": "code",
   "execution_count": 70,
   "metadata": {},
   "outputs": [
    {
     "name": "stdout",
     "output_type": "stream",
     "text": [
      "SL.GDP.PCAP.EM.KD   \tGDP per person employed (constant 2017 PPP $)\n",
      "SL.GDP.PCAP.EM.KD.ZG\tGDP per person employed (annual % growth)\n",
      "SL.GDP.PCAP.EM.XD   \tGDP per person employed, index (1980 = 100)\n"
     ]
    }
   ],
   "source": [
    "#Searching for an indicator\n",
    "wb.search_indicators('gdp per person employed')"
   ]
  },
  {
   "cell_type": "code",
   "execution_count": null,
   "metadata": {},
   "outputs": [],
   "source": [
    "#set up the indicator I want (just build up the dict if you want more than one)\n",
    "indicators = {'NY.GNP.PCAP.CD':'GNI per Capita'}\n",
    " \n",
    "#grab indicators above for countires above and load into data frame\n",
    "df = wb.get_dataframe(indicators, country=countries, convert_date=False)\n",
    "\n",
    "#df is \"pivoted\", pandas' unstack fucntion helps reshape it into something plottable\n",
    "dfu = df.unstack(level=0)\n",
    "\n",
    "# a simple matplotlib plot with legend, labels and a title\n",
    "dfu.plot(); \n",
    "plt.legend(loc='best'); \n",
    "plt.title(\"GNI Per Capita ($USD, Atlas Method)\"); \n",
    "plt.xlabel('Date'); plt.ylabel('GNI Per Capita ($USD, Atlas Method');"
   ]
  },
  {
   "cell_type": "code",
   "execution_count": 38,
   "metadata": {},
   "outputs": [],
   "source": [
    "#eu.subset_toc_df(toc_df, 'gross domestic product')"
   ]
  },
  {
   "cell_type": "code",
   "execution_count": 39,
   "metadata": {},
   "outputs": [],
   "source": [
    "#gdp = eu.get_data_df('nama_10_pc', flags=False)\n",
    "#gdp = eu.get_data_df('nama_10_pc', convert_date=True)\n",
    "#gdp"
   ]
  },
  {
   "cell_type": "code",
   "execution_count": 40,
   "metadata": {},
   "outputs": [],
   "source": [
    "#eu.get_dic('nama_10_pc')"
   ]
  },
  {
   "cell_type": "code",
   "execution_count": 41,
   "metadata": {
    "deletable": false,
    "nbgrader": {
     "checksum": "3dd4c02198f7b81f943268cb3d0a12b2",
     "grade": true,
     "grade_id": "cell-a2231ee7e6d4e686",
     "locked": false,
     "points": 7,
     "schema_version": 1,
     "solution": true
    }
   },
   "outputs": [],
   "source": [
    "#gdp = eu.get_data_df('nama_10_pc', flags=False)\n",
    "#g = pd.read_csv('nama_10_pc_1_Data.csv', index_col=0)\n",
    "#g\n",
    "#tr_g = g.transpose()\n",
    "#tr_g"
   ]
  },
  {
   "cell_type": "code",
   "execution_count": 42,
   "metadata": {},
   "outputs": [],
   "source": [
    "#year = [1, 2, 3, 4, 5]\n",
    "#value = [3, 1, 10, 7, 8]\n",
    "#data = pd.DataFrame(value, year)\n",
    "#data\n",
    "#plt.plot(data)\n",
    "#plt.show()"
   ]
  },
  {
   "cell_type": "code",
   "execution_count": 43,
   "metadata": {},
   "outputs": [],
   "source": [
    "#slovakia = g.loc['Slovakia']\n",
    "#type(slovakia['Value'])\n",
    "#cols = ['TIME', 'Value']\n",
    "#slovakia = slovakia[cols]\n",
    "#slovakia\n",
    "#slovakia_u = slovakia.unstack(level=0)\n",
    "#slovakia_u\n",
    "#years = g.loc['Bulgaria']['TIME']\n",
    "#bulgaria_gdp = g.loc['Bulgaria']['Value'].tolist()\n",
    "#bulgaria_gdp\n",
    "#df = pd.DataFrame(slovakia['Value'].astype(int), index=['SK'], columns=slovakia['TIME'])\n",
    "#df\n",
    "#slovakia_gdp = np.array(g.loc['Slovakia']['Value'])\n",
    "#years = np.array(g.loc['Slovakia']['TIME'])\n",
    "#plt.plot(years, bulgaria_gdp)\n",
    "#plt.show()"
   ]
  },
  {
   "cell_type": "code",
   "execution_count": 44,
   "metadata": {},
   "outputs": [],
   "source": [
    "#gu = slovakia.unstack(level=0)\n",
    "#gu"
   ]
  },
  {
   "cell_type": "code",
   "execution_count": 45,
   "metadata": {},
   "outputs": [],
   "source": [
    "#tr_g = g.transpose()\n",
    "#tr_g.set_index('GEO')\n",
    "#tr_g"
   ]
  },
  {
   "cell_type": "code",
   "execution_count": 48,
   "metadata": {},
   "outputs": [
    {
     "data": {
      "image/png": "[encoded data removed]",
      "text/plain": [
       "<Figure size 432x288 with 1 Axes>"
      ]
     },
     "metadata": {
      "needs_background": "light"
     },
     "output_type": "display_data"
    }
   ],
   "source": [
    "#set up the countries I want\n",
    "#countries = [\"CL\",\"UY\",\"HU\"]\n",
    " \n",
    "#set up the indicator I want (just build up the dict if you want more than one)\n",
    "indicators = {'NY.GNP.PCAP.CD':'GNI per Capita'}\n",
    " \n",
    "#grab indicators above for countires above and load into data frame\n",
    "df = wb.get_dataframe(indicators, country=countries, convert_date=False)\n",
    "\n",
    "#df is \"pivoted\", pandas' unstack fucntion helps reshape it into something plottable\n",
    "dfu = df.unstack(level=0)\n",
    "\n",
    "# a simple matplotlib plot with legend, labels and a title\n",
    "dfu.plot(); \n",
    "plt.legend(loc='best'); \n",
    "plt.title(\"GNI Per Capita ($USD, Atlas Method)\"); \n",
    "plt.xlabel('Date'); plt.ylabel('GNI Per Capita ($USD, Atlas Method');"
   ]
  },
  {
   "cell_type": "code",
   "execution_count": null,
   "metadata": {},
   "outputs": [],
   "source": [
    "wbdata.search_indicators('gdp per capita')"
   ]
  },
  {
   "cell_type": "code",
   "execution_count": 49,
   "metadata": {},
   "outputs": [
    {
     "data": {
      "text/plain": [
       "Text(0, 0.5, 'GDP per capita (current US$)')"
      ]
     },
     "execution_count": 49,
     "metadata": {},
     "output_type": "execute_result"
    },
    {
     "data": {
      "image/png": "[encoded data removed]",
      "text/plain": [
       "<Figure size 432x288 with 1 Axes>"
      ]
     },
     "metadata": {
      "needs_background": "light"
     },
     "output_type": "display_data"
    }
   ],
   "source": [
    "#set up the countries I want\n",
    "countries = [\"DE\",\"FR\",\"BG\",\"RO\",\"SRB\", \"CZ\"]\n",
    " \n",
    "#set up the indicator I want (just build up the dict if you want more than one)\n",
    "indicators = {'NY.GDP.PCAP.CD':'GDP per capita (current US$)'}\n",
    "\n",
    "data_date = dt.datetime(1995, 1, 1), dt.datetime(2019, 1, 1)\n",
    " \n",
    "#grab indicators above for countires above and load into data frame\n",
    "df = wb.get_dataframe(indicators, country=group_4, data_date=data_date, convert_date=False)\n",
    "\n",
    "#df is \"pivoted\", pandas' unstack fucntion helps reshape it into something plottable\n",
    "dfu = df.unstack(level=0)\n",
    "list1 = []\n",
    "for i in range(25) :\n",
    "    list1.append(dfu.iloc[i][2:4].mean())\n",
    "list1\n",
    "dfu[\"EU av\"] = list1\n",
    "dfu\n",
    "\n",
    "# a simple matplotlib plot with legend, labels and a title\n",
    "dfu.plot(); \n",
    "plt.legend(loc='upper right')\n",
    "plt.title(\"GDP per capita (current US$)\")\n",
    "plt.xlabel('Date')\n",
    "plt.ylabel('GDP per capita (current US$)')"
   ]
  },
  {
   "cell_type": "code",
   "execution_count": 11,
   "metadata": {},
   "outputs": [
    {
     "name": "stdout",
     "output_type": "stream",
     "text": [
      "5.51.01.10.gdp      \tPer capita GDP growth\n",
      "6.0.GDP_growth      \tGDP growth (annual %)\n",
      "NV.AGR.TOTL.ZG      \tReal agricultural GDP growth rates (%)\n",
      "NY.GDP.MKTP.KD.ZG   \tGDP growth (annual %)\n",
      "NY.GDP.MKTP.KN.87.ZG\tGDP growth (annual %)\n"
     ]
    }
   ],
   "source": [
    "wbdata.search_indicators('gdp growth')"
   ]
  },
  {
   "cell_type": "code",
   "execution_count": 12,
   "metadata": {},
   "outputs": [
    {
     "name": "stdout",
     "output_type": "stream",
     "text": [
      "6.0.GDP_growth\tGDP growth (annual %)\n"
     ]
    }
   ],
   "source": [
    "wbdata.get_indicator('6.0.GDP_growth')"
   ]
  },
  {
   "cell_type": "code",
   "execution_count": 51,
   "metadata": {},
   "outputs": [
    {
     "data": {
      "text/plain": [
       "Text(0, 0.5, 'GDP per capita (current US$)')"
      ]
     },
     "execution_count": 51,
     "metadata": {},
     "output_type": "execute_result"
    },
    {
     "data": {
      "image/png": "[encoded data removed]",
      "text/plain": [
       "<Figure size 432x288 with 1 Axes>"
      ]
     },
     "metadata": {
      "needs_background": "light"
     },
     "output_type": "display_data"
    }
   ],
   "source": [
    "#set up the countries I want\n",
    "countries = [\"DE\",\"FR\",\"BG\",\"RO\",\"SRB\", \"CZ\"]\n",
    " \n",
    "#set up the indicator I want (just build up the dict if you want more than one)\n",
    "growth = {'NY.GDP.MKTP.KD.ZG':'GDP growth (annual %)'}\n",
    "\n",
    "data_date = datetime.datetime(1995, 1, 1), datetime.datetime(2019, 1, 1)\n",
    " \n",
    "#grab indicators above for countires above and load into data frame\n",
    "df = wbdata.get_dataframe(growth, country=group_1, data_date=data_date, convert_date=False)\n",
    "\n",
    "#df is \"pivoted\", pandas' unstack fucntion helps reshape it into something plottable\n",
    "dfu = df.unstack(level=0)\n",
    "list1 = []\n",
    "for i in range(25) :\n",
    "    list1.append(dfu.iloc[i][2:4].mean())\n",
    "list1\n",
    "dfu[\"EU av\"] = list1\n",
    "dfu\n",
    "\n",
    "# a simple matplotlib plot with legend, labels and a title\n",
    "dfu.plot(); \n",
    "plt.legend(loc='lower left')\n",
    "plt.title(\"GDP per capita (current US$)\")\n",
    "plt.xlabel('Date')\n",
    "plt.ylabel('GDP per capita (current US$)')"
   ]
  },
  {
   "cell_type": "code",
   "execution_count": 16,
   "metadata": {},
   "outputs": [
    {
     "name": "stdout",
     "output_type": "stream",
     "text": [
      "ABW\tAruba\n",
      "AFG\tAfghanistan\n",
      "AFR\tAfrica\n",
      "AGO\tAngola\n",
      "ALB\tAlbania\n",
      "AND\tAndorra\n",
      "ARB\tArab World\n",
      "ARE\tUnited Arab Emirates\n",
      "ARG\tArgentina\n",
      "ARM\tArmenia\n",
      "ASM\tAmerican Samoa\n",
      "ATG\tAntigua and Barbuda\n",
      "AUS\tAustralia\n",
      "AUT\tAustria\n",
      "AZE\tAzerbaijan\n",
      "BDI\tBurundi\n",
      "BEA\tEast Asia & Pacific (IBRD-only countries)\n",
      "BEC\tEurope & Central Asia (IBRD-only countries)\n",
      "BEL\tBelgium\n",
      "BEN\tBenin\n",
      "BFA\tBurkina Faso\n",
      "BGD\tBangladesh\n",
      "BGR\tBulgaria\n",
      "BHI\tIBRD countries classified as high income\n",
      "BHR\tBahrain\n",
      "BHS\tBahamas, The\n",
      "BIH\tBosnia and Herzegovina\n",
      "BLA\tLatin America & the Caribbean (IBRD-only countries)\n",
      "BLR\tBelarus\n",
      "BLZ\tBelize\n",
      "BMN\tMiddle East & North Africa (IBRD-only countries)\n",
      "BMU\tBermuda\n",
      "BOL\tBolivia\n",
      "BRA\tBrazil\n",
      "BRB\tBarbados\n",
      "BRN\tBrunei Darussalam\n",
      "BSS\tSub-Saharan Africa (IBRD-only countries)\n",
      "BTN\tBhutan\n",
      "BWA\tBotswana\n",
      "CAA\tSub-Saharan Africa (IFC classification)\n",
      "CAF\tCentral African Republic\n",
      "CAN\tCanada\n",
      "CEA\tEast Asia and the Pacific (IFC classification)\n",
      "CEB\tCentral Europe and the Baltics\n",
      "CEU\tEurope and Central Asia (IFC classification)\n",
      "CHE\tSwitzerland\n",
      "CHI\tChannel Islands\n",
      "CHL\tChile\n",
      "CHN\tChina\n",
      "CIV\tCote d'Ivoire\n",
      "CLA\tLatin America and the Caribbean (IFC classification)\n",
      "CME\tMiddle East and North Africa (IFC classification)\n",
      "CMR\tCameroon\n",
      "COD\tCongo, Dem. Rep.\n",
      "COG\tCongo, Rep.\n",
      "COL\tColombia\n",
      "COM\tComoros\n",
      "CPV\tCabo Verde\n",
      "CRI\tCosta Rica\n",
      "CSA\tSouth Asia (IFC classification)\n",
      "CSS\tCaribbean small states\n",
      "CUB\tCuba\n",
      "CUW\tCuracao\n",
      "CYM\tCayman Islands\n",
      "CYP\tCyprus\n",
      "CZE\tCzech Republic\n",
      "DEA\tEast Asia & Pacific (IDA-eligible countries)\n",
      "DEC\tEurope & Central Asia (IDA-eligible countries)\n",
      "DEU\tGermany\n",
      "DFS\tIDA countries classified as Fragile Situations\n",
      "DJI\tDjibouti\n",
      "DLA\tLatin America & the Caribbean (IDA-eligible countries)\n",
      "DMA\tDominica\n",
      "DMN\tMiddle East & North Africa (IDA-eligible countries)\n",
      "DNF\tIDA countries not classified as Fragile Situations\n",
      "DNK\tDenmark\n",
      "DNS\tIDA countries in Sub-Saharan Africa not classified as fragile situations \n",
      "DOM\tDominican Republic\n",
      "DSA\tSouth Asia (IDA-eligible countries)\n",
      "DSF\tIDA countries in Sub-Saharan Africa classified as fragile situations \n",
      "DSS\tSub-Saharan Africa (IDA-eligible countries)\n",
      "DZA\tAlgeria\n",
      "EAP\tEast Asia & Pacific (excluding high income)\n",
      "EAR\tEarly-demographic dividend\n",
      "EAS\tEast Asia & Pacific\n",
      "ECA\tEurope & Central Asia (excluding high income)\n",
      "ECS\tEurope & Central Asia\n",
      "ECU\tEcuador\n",
      "EGY\tEgypt, Arab Rep.\n",
      "EMU\tEuro area\n",
      "ERI\tEritrea\n",
      "ESP\tSpain\n",
      "EST\tEstonia\n",
      "ETH\tEthiopia\n",
      "EUU\tEuropean Union\n",
      "FCS\tFragile and conflict affected situations\n",
      "FIN\tFinland\n",
      "FJI\tFiji\n",
      "FRA\tFrance\n",
      "FRO\tFaroe Islands\n",
      "FSM\tMicronesia, Fed. Sts.\n",
      "FXS\tIDA countries classified as fragile situations, excluding Sub-Saharan Africa\n",
      "GAB\tGabon\n",
      "GBR\tUnited Kingdom\n",
      "GEO\tGeorgia\n",
      "GHA\tGhana\n",
      "GIB\tGibraltar\n",
      "GIN\tGuinea\n",
      "GMB\tGambia, The\n",
      "GNB\tGuinea-Bissau\n",
      "GNQ\tEquatorial Guinea\n",
      "GRC\tGreece\n",
      "GRD\tGrenada\n",
      "GRL\tGreenland\n",
      "GTM\tGuatemala\n",
      "GUM\tGuam\n",
      "GUY\tGuyana\n",
      "HIC\tHigh income\n",
      "HKG\tHong Kong SAR, China\n",
      "HND\tHonduras\n",
      "HPC\tHeavily indebted poor countries (HIPC)\n",
      "HRV\tCroatia\n",
      "HTI\tHaiti\n",
      "HUN\tHungary\n",
      "IBB\tIBRD, including blend\n",
      "IBD\tIBRD only\n",
      "IBT\tIDA & IBRD total\n",
      "IDA\tIDA total\n",
      "IDB\tIDA blend\n",
      "IDN\tIndonesia\n",
      "IDX\tIDA only\n",
      "IMN\tIsle of Man\n",
      "IND\tIndia\n",
      "INX\tNot classified\n",
      "IRL\tIreland\n",
      "IRN\tIran, Islamic Rep.\n",
      "IRQ\tIraq\n",
      "ISL\tIceland\n",
      "ISR\tIsrael\n",
      "ITA\tItaly\n",
      "JAM\tJamaica\n",
      "JOR\tJordan\n",
      "JPN\tJapan\n",
      "KAZ\tKazakhstan\n",
      "KEN\tKenya\n",
      "KGZ\tKyrgyz Republic\n",
      "KHM\tCambodia\n",
      "KIR\tKiribati\n",
      "KNA\tSt. Kitts and Nevis\n",
      "KOR\tKorea, Rep.\n",
      "KWT\tKuwait\n",
      "LAC\tLatin America & Caribbean (excluding high income)\n",
      "LAO\tLao PDR\n",
      "LBN\tLebanon\n",
      "LBR\tLiberia\n",
      "LBY\tLibya\n",
      "LCA\tSt. Lucia\n",
      "LCN\tLatin America & Caribbean \n",
      "LDC\tLeast developed countries: UN classification\n",
      "LIC\tLow income\n",
      "LIE\tLiechtenstein\n",
      "LKA\tSri Lanka\n",
      "LMC\tLower middle income\n",
      "LMY\tLow & middle income\n",
      "LSO\tLesotho\n",
      "LTE\tLate-demographic dividend\n",
      "LTU\tLithuania\n",
      "LUX\tLuxembourg\n",
      "LVA\tLatvia\n",
      "MAC\tMacao SAR, China\n",
      "MAF\tSt. Martin (French part)\n",
      "MAR\tMorocco\n",
      "MCO\tMonaco\n",
      "MDA\tMoldova\n",
      "MDE\tMiddle East (developing only)\n",
      "MDG\tMadagascar\n",
      "MDV\tMaldives\n",
      "MEA\tMiddle East & North Africa\n",
      "MEX\tMexico\n",
      "MHL\tMarshall Islands\n",
      "MIC\tMiddle income\n",
      "MKD\tNorth Macedonia\n",
      "MLI\tMali\n",
      "MLT\tMalta\n",
      "MMR\tMyanmar\n",
      "MNA\tMiddle East & North Africa (excluding high income)\n",
      "MNE\tMontenegro\n",
      "MNG\tMongolia\n",
      "MNP\tNorthern Mariana Islands\n",
      "MOZ\tMozambique\n",
      "MRT\tMauritania\n",
      "MUS\tMauritius\n",
      "MWI\tMalawi\n",
      "MYS\tMalaysia\n",
      "NAC\tNorth America\n",
      "NAF\tNorth Africa\n",
      "NAM\tNamibia\n",
      "NCL\tNew Caledonia\n",
      "NER\tNiger\n",
      "NGA\tNigeria\n",
      "NIC\tNicaragua\n",
      "NLD\tNetherlands\n",
      "NOR\tNorway\n",
      "NPL\tNepal\n",
      "NRS\tNon-resource rich Sub-Saharan Africa countries\n",
      "NRU\tNauru\n",
      "NXS\tIDA countries not classified as fragile situations, excluding Sub-Saharan Africa\n",
      "NZL\tNew Zealand\n",
      "OED\tOECD members\n",
      "OMN\tOman\n",
      "OSS\tOther small states\n",
      "PAK\tPakistan\n",
      "PAN\tPanama\n",
      "PER\tPeru\n",
      "PHL\tPhilippines\n",
      "PLW\tPalau\n",
      "PNG\tPapua New Guinea\n",
      "POL\tPoland\n",
      "PRE\tPre-demographic dividend\n",
      "PRI\tPuerto Rico\n",
      "PRK\tKorea, Dem. People���s Rep.\n",
      "PRT\tPortugal\n",
      "PRY\tParaguay\n",
      "PSE\tWest Bank and Gaza\n",
      "PSS\tPacific island small states\n",
      "PST\tPost-demographic dividend\n",
      "PYF\tFrench Polynesia\n",
      "QAT\tQatar\n",
      "ROU\tRomania\n",
      "RRS\tResource rich Sub-Saharan Africa countries\n",
      "RUS\tRussian Federation\n",
      "RWA\tRwanda\n",
      "SAS\tSouth Asia\n",
      "SAU\tSaudi Arabia\n",
      "SDN\tSudan\n",
      "SEN\tSenegal\n",
      "SGP\tSingapore\n",
      "SLB\tSolomon Islands\n",
      "SLE\tSierra Leone\n",
      "SLV\tEl Salvador\n",
      "SMR\tSan Marino\n",
      "SOM\tSomalia\n",
      "SRB\tSerbia\n",
      "SSA\tSub-Saharan Africa (excluding high income)\n",
      "SSD\tSouth Sudan\n",
      "SSF\tSub-Saharan Africa \n",
      "SST\tSmall states\n",
      "STP\tSao Tome and Principe\n",
      "SUR\tSuriname\n",
      "SVK\tSlovak Republic\n",
      "SVN\tSlovenia\n",
      "SWE\tSweden\n",
      "SWZ\tEswatini\n",
      "SXM\tSint Maarten (Dutch part)\n",
      "SXZ\tSub-Saharan Africa excluding South Africa\n",
      "SYC\tSeychelles\n",
      "SYR\tSyrian Arab Republic\n",
      "TCA\tTurks and Caicos Islands\n",
      "TCD\tChad\n",
      "TEA\tEast Asia & Pacific (IDA & IBRD countries)\n",
      "TEC\tEurope & Central Asia (IDA & IBRD countries)\n",
      "TGO\tTogo\n",
      "THA\tThailand\n",
      "TJK\tTajikistan\n",
      "TKM\tTurkmenistan\n",
      "TLA\tLatin America & the Caribbean (IDA & IBRD countries)\n",
      "TLS\tTimor-Leste\n",
      "TMN\tMiddle East & North Africa (IDA & IBRD countries)\n",
      "TON\tTonga\n",
      "TSA\tSouth Asia (IDA & IBRD)\n",
      "TSS\tSub-Saharan Africa (IDA & IBRD countries)\n",
      "TTO\tTrinidad and Tobago\n",
      "TUN\tTunisia\n",
      "TUR\tTurkey\n",
      "TUV\tTuvalu\n",
      "TWN\tTaiwan, China\n",
      "TZA\tTanzania\n",
      "UGA\tUganda\n",
      "UKR\tUkraine\n",
      "UMC\tUpper middle income\n",
      "URY\tUruguay\n",
      "USA\tUnited States\n",
      "UZB\tUzbekistan\n",
      "VCT\tSt. Vincent and the Grenadines\n",
      "VEN\tVenezuela, RB\n",
      "VGB\tBritish Virgin Islands\n",
      "VIR\tVirgin Islands (U.S.)\n",
      "VNM\tVietnam\n",
      "VUT\tVanuatu\n",
      "WLD\tWorld\n",
      "WSM\tSamoa\n",
      "XKX\tKosovo\n",
      "XZN\tSub-Saharan Africa excluding South Africa and Nigeria\n",
      "YEM\tYemen, Rep.\n",
      "ZAF\tSouth Africa\n",
      "ZMB\tZambia\n",
      "ZWE\tZimbabwe\n"
     ]
    }
   ],
   "source": [
    "df1 = wbdata.get_country()"
   ]
  },
  {
   "cell_type": "markdown",
   "metadata": {},
   "source": [
    "# Sensitivity analysis (0.5 points)\n",
    "\n",
    "If you do a theory notebook, program different values for the parameters, use different functional forms and solve your model again for these new values. Show that the outcomes are robust to such changes.\n",
    "\n",
    "If you are using data, how sensitive are your results to outliers in the data, different choices when cleaning the data, different functional forms for the relations that you estimate.\n"
   ]
  },
  {
   "cell_type": "code",
   "execution_count": null,
   "metadata": {
    "nbgrader": {
     "checksum": "3dd4c02198f7b81f943268cb3d0a12b2",
     "grade": true,
     "grade_id": "cell-a2231ee7e6d4e686",
     "locked": false,
     "points": 7,
     "schema_version": 1,
     "solution": true
    }
   },
   "outputs": [],
   "source": [
    "# YOUR CODE HERE\n",
    "raise NotImplementedError()"
   ]
  },
  {
   "cell_type": "markdown",
   "metadata": {},
   "source": [
    "# Discussion and conclusion (0.5 points)\n",
    "\n",
    "What did you find in the analysis above; what is the answer to the question you started out with.\n",
    "\n",
    "What are weaknesses of your approach that can be improved upon in future research (e.g. in your thesis).\n"
   ]
  },
  {
   "cell_type": "markdown",
   "metadata": {
    "deletable": false,
    "nbgrader": {
     "checksum": "52e1cf5783dd1971d265a8ea172e297a",
     "grade": true,
     "grade_id": "cell-4b5c9f698b295ad7",
     "locked": false,
     "points": 0.5,
     "schema_version": 1,
     "solution": true
    }
   },
   "source": [
    "YOUR ANSWER HERE"
   ]
  },
  {
   "cell_type": "code",
   "execution_count": null,
   "metadata": {},
   "outputs": [],
   "source": []
  }
 ],
 "metadata": {
  "kernelspec": {
   "display_name": "Python 3",
   "language": "python",
   "name": "python3"
  },
  "language_info": {
   "codemirror_mode": {
    "name": "ipython",
    "version": 3
   },
   "file_extension": ".py",
   "mimetype": "text/x-python",
   "name": "python",
   "nbconvert_exporter": "python",
   "pygments_lexer": "ipython3",
   "version": "3.7.1"
  },
  "toc": {
   "base_numbering": 1,
   "nav_menu": {},
   "number_sections": true,
   "sideBar": true,
   "skip_h1_title": false,
   "title_cell": "Table of Contents",
   "title_sidebar": "Contents",
   "toc_cell": false,
   "toc_position": {},
   "toc_section_display": true,
   "toc_window_display": true
  }
 },
 "nbformat": 4,
 "nbformat_minor": 4
}
